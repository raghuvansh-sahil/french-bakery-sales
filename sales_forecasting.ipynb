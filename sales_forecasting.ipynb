{
 "cells": [
  {
   "cell_type": "code",
   "execution_count": null,
   "id": "4fcd6e21",
   "metadata": {},
   "outputs": [],
   "source": [
    "import numpy as np\n",
    "import pandas as pd\n",
    "import matplotlib.pyplot as plt\n",
    "\n",
    "from utilsforecast.plotting import plot_series\n",
    "from utilsforecast.evaluation import evaluate\n",
    "from utilsforecast.losses import *\n",
    "\n",
    "import warnings\n",
    "warnings.filterwarnings(\"ignore\")"
   ]
  },
  {
   "cell_type": "code",
   "execution_count": null,
   "id": "ea0d0da7",
   "metadata": {},
   "outputs": [],
   "source": [
    "df = pd.read_csv(\"data/daily_sales_french_bakery.csv\", parse_dates=[\"ds\"])\n",
    "df = df.groupby(\"unique_id\").filter(lambda x: len(x) >= 28)\n",
    "df = df.drop([\"unit_price\"], axis=1)\n",
    "df.head()"
   ]
  },
  {
   "cell_type": "code",
   "execution_count": null,
   "id": "8844b809",
   "metadata": {},
   "outputs": [],
   "source": [
    "plot_series(df=df, ids=[\"BAGUETTE\", \"CROISSANT\"], palette=\"viridis\")"
   ]
  },
  {
   "cell_type": "code",
   "execution_count": null,
   "id": "7e6568f8",
   "metadata": {},
   "outputs": [],
   "source": [
    "plot_series(df=df, ids=[\"BAGUETTE\", \"CROISSANT\"], max_insample_length=56, palette=\"viridis\")"
   ]
  },
  {
   "cell_type": "markdown",
   "id": "f8446417",
   "metadata": {},
   "source": [
    "## Baseline Models"
   ]
  },
  {
   "cell_type": "code",
   "execution_count": null,
   "id": "9320f753",
   "metadata": {},
   "outputs": [],
   "source": [
    "from statsforecast import StatsForecast\n",
    "from statsforecast.models import Naive, HistoricAverage, WindowAverage, SeasonalNaive"
   ]
  },
  {
   "cell_type": "code",
   "execution_count": null,
   "id": "4416dfdb",
   "metadata": {},
   "outputs": [],
   "source": [
    "horizon = 7"
   ]
  },
  {
   "cell_type": "code",
   "execution_count": null,
   "id": "c58083e9",
   "metadata": {},
   "outputs": [],
   "source": [
    "models = [\n",
    "    Naive(),\n",
    "    HistoricAverage(),\n",
    "    WindowAverage(window_size=7),\n",
    "    SeasonalNaive(season_length=7)\n",
    "]\n",
    "\n",
    "sf = StatsForecast(models=models, freq=\"D\")\n",
    "sf.fit(df=df)\n",
    "preds = sf.predict(h=horizon)"
   ]
  },
  {
   "cell_type": "code",
   "execution_count": null,
   "id": "3b811c6f",
   "metadata": {},
   "outputs": [],
   "source": [
    "preds.head() "
   ]
  },
  {
   "cell_type": "code",
   "execution_count": null,
   "id": "a9e5f7bc",
   "metadata": {},
   "outputs": [],
   "source": [
    "plot_series(df=df, forecasts_df=preds, ids=[\"BAGUETTE\", \"CROISSANT\"], max_insample_length=28, palette=\"viridis\")"
   ]
  },
  {
   "cell_type": "code",
   "execution_count": null,
   "id": "0837d802",
   "metadata": {},
   "outputs": [],
   "source": [
    "test = df.groupby(\"unique_id\").tail(7)\n",
    "train = df.drop(test.index).reset_index(drop=True)"
   ]
  },
  {
   "cell_type": "code",
   "execution_count": null,
   "id": "cfe03285",
   "metadata": {},
   "outputs": [],
   "source": [
    "sf.fit(df=train)\n",
    "preds = sf.predict(h=horizon)\n",
    "eval_df = pd.merge(test, preds, \"inner\", [\"ds\", \"unique_id\"])"
   ]
  },
  {
   "cell_type": "code",
   "execution_count": null,
   "id": "817777ed",
   "metadata": {},
   "outputs": [],
   "source": [
    "evaluation = evaluate(eval_df, metrics=[mae])\n",
    "evaluation.head()"
   ]
  },
  {
   "cell_type": "code",
   "execution_count": null,
   "id": "c118947b",
   "metadata": {},
   "outputs": [],
   "source": [
    "evaluation = evaluation.drop([\"unique_id\"], axis=1).groupby(\"metric\").mean().reset_index()\n",
    "evaluation.head()"
   ]
  },
  {
   "cell_type": "code",
   "execution_count": null,
   "id": "2a58e54e",
   "metadata": {},
   "outputs": [],
   "source": [
    "plot_series(df=df, forecasts_df=preds, ids=[\"BAGUETTE\", \"CROISSANT\"], max_insample_length=28, palette=\"viridis\")"
   ]
  },
  {
   "cell_type": "code",
   "execution_count": null,
   "id": "8b8416ac",
   "metadata": {},
   "outputs": [],
   "source": [
    "methods = evaluation.columns[1:].tolist()\n",
    "values = evaluation.iloc[0, 1:].tolist()\n",
    "\n",
    "plt.figure(figsize=(10, 6))\n",
    "bars = plt.bar(methods, values)\n",
    "\n",
    "for bar, value in zip(bars, values):\n",
    "    plt.text(bar.get_x() + bar.get_width() / 2, bar.get_height() + 0.05, f\"{value:.3f}\", ha=\"center\", va=\"bottom\", fontweight=\"bold\")\n",
    "\n",
    "plt.xlabel(\"Methods\")\n",
    "plt.ylabel(\"Mean Absolute Error (MAE)\")\n",
    "plt.tight_layout()\n",
    "\n",
    "plt.show()"
   ]
  },
  {
   "cell_type": "markdown",
   "id": "fe36d6b1",
   "metadata": {},
   "source": [
    "## ARIMA"
   ]
  },
  {
   "cell_type": "code",
   "execution_count": null,
   "id": "cca8846d",
   "metadata": {},
   "outputs": [],
   "source": [
    "from statsforecast.models import AutoARIMA"
   ]
  },
  {
   "cell_type": "code",
   "execution_count": null,
   "id": "298bc22d",
   "metadata": {},
   "outputs": [],
   "source": [
    "models = [\n",
    "    AutoARIMA(seasonal=False, alias=\"ARIMA\"),\n",
    "    AutoARIMA(season_length=7, alias=\"SARIMA\")\n",
    "]\n",
    "\n",
    "sf = StatsForecast(models=models, freq=\"D\")\n",
    "sf.fit(df=train)\n",
    "arima_preds = sf.predict(h=horizon)\n",
    "arima_eval_df = pd.merge(arima_preds, eval_df, \"inner\", [\"ds\", \"unique_id\"])"
   ]
  },
  {
   "cell_type": "code",
   "execution_count": null,
   "id": "8fa0dd87",
   "metadata": {},
   "outputs": [],
   "source": [
    "arima_eval = evaluate(arima_eval_df, metrics=[mae])\n",
    "arima_eval.head()"
   ]
  },
  {
   "cell_type": "code",
   "execution_count": null,
   "id": "929a3ff7",
   "metadata": {},
   "outputs": [],
   "source": [
    "arima_eval = arima_eval.drop([\"unique_id\"], axis=1).groupby(\"metric\").mean().reset_index()\n",
    "arima_eval.head()"
   ]
  },
  {
   "cell_type": "code",
   "execution_count": null,
   "id": "dccddfff",
   "metadata": {},
   "outputs": [],
   "source": [
    "plot_series(df=df, forecasts_df=arima_preds, ids=[\"BAGUETTE\", \"CROISSANT\"], max_insample_length=28, palette=\"viridis\")"
   ]
  },
  {
   "cell_type": "code",
   "execution_count": null,
   "id": "1b10959e",
   "metadata": {},
   "outputs": [],
   "source": [
    "methods = arima_eval.columns[1:].tolist()\n",
    "values = arima_eval.iloc[0, 1:].tolist()\n",
    "\n",
    "plt.figure(figsize=(10, 6))\n",
    "bars = plt.bar(methods, values)\n",
    "\n",
    "for bar, value in zip(bars, values):\n",
    "    plt.text(bar.get_x() + bar.get_width() / 2, bar.get_height() + 0.05, f\"{value:.3f}\", ha=\"center\", va=\"bottom\", fontweight=\"bold\")\n",
    "\n",
    "plt.xlabel(\"Methods\")\n",
    "plt.ylabel(\"Mean Absolute Error (MAE)\")\n",
    "plt.tight_layout()\n",
    "\n",
    "plt.show()"
   ]
  },
  {
   "cell_type": "markdown",
   "id": "fde358b7",
   "metadata": {},
   "source": [
    "## Cross-validation"
   ]
  },
  {
   "cell_type": "code",
   "execution_count": null,
   "id": "4929e6d3",
   "metadata": {},
   "outputs": [],
   "source": [
    "models = [\n",
    "    SeasonalNaive(season_length=7),\n",
    "    AutoARIMA(seasonal=False, alias=\"ARIMA\"),\n",
    "    AutoARIMA(season_length=7, alias=\"SARIMA\")\n",
    "]\n",
    "\n",
    "sf = StatsForecast(models=models, freq=\"D\")\n",
    "cv_df = sf.cross_validation(h=horizon, df=df, n_windows=7, step_size=horizon, refit=True)\n",
    "cv_df.head()"
   ]
  },
  {
   "cell_type": "code",
   "execution_count": null,
   "id": "c46bbb88",
   "metadata": {},
   "outputs": [],
   "source": [
    "cv_eval = evaluate(cv_df.drop([\"cutoff\"], axis=1), metrics=[mae])\n",
    "cv_eval.head()"
   ]
  },
  {
   "cell_type": "code",
   "execution_count": null,
   "id": "f029c15e",
   "metadata": {},
   "outputs": [],
   "source": [
    "cv_eval = cv_eval.drop([\"unique_id\"], axis=1).groupby(\"metric\").mean().reset_index()\n",
    "cv_eval.head()"
   ]
  },
  {
   "cell_type": "code",
   "execution_count": null,
   "id": "4e3da57e",
   "metadata": {},
   "outputs": [],
   "source": [
    "plot_series(df=df, forecasts_df=cv_df.drop([\"cutoff\", \"y\"], axis=1), ids=[\"BAGUETTE\", \"CROISSANT\"], max_insample_length=140, palette=\"viridis\")"
   ]
  },
  {
   "cell_type": "code",
   "execution_count": null,
   "id": "d986d60f",
   "metadata": {},
   "outputs": [],
   "source": [
    "methods = cv_eval.columns[1:].tolist()\n",
    "values = cv_eval.iloc[0, 1:].tolist()\n",
    "\n",
    "plt.figure(figsize=(10, 6))\n",
    "bars = plt.bar(methods, values)\n",
    "\n",
    "for bar, value in zip(bars, values):\n",
    "    plt.text(bar.get_x() + bar.get_width() / 2, bar.get_height() + 0.05, f\"{value:.3f}\", ha=\"center\", va=\"bottom\", fontweight=\"bold\")\n",
    "\n",
    "plt.xlabel(\"Methods\")\n",
    "plt.ylabel(\"Mean Absolute Error (MAE)\")\n",
    "plt.tight_layout()\n",
    "\n",
    "plt.show()"
   ]
  },
  {
   "cell_type": "markdown",
   "id": "57217e52",
   "metadata": {},
   "source": [
    "## Exogenous Features"
   ]
  },
  {
   "cell_type": "code",
   "execution_count": null,
   "id": "5d5bb074",
   "metadata": {},
   "outputs": [],
   "source": [
    "df = pd.read_csv(\"data/daily_sales_french_bakery.csv\", parse_dates=[\"ds\"])\n",
    "df = df.groupby(\"unique_id\").filter(lambda x: len(x) >= 28)\n",
    "df.head()"
   ]
  },
  {
   "cell_type": "code",
   "execution_count": null,
   "id": "65f7caec",
   "metadata": {},
   "outputs": [],
   "source": [
    "baguette_plot_df = df[df[\"unique_id\"] == \"BAGUETTE\"]\n",
    "croissant_plot_df = df[df[\"unique_id\"] == \"CROISSANT\"]\n",
    "\n",
    "fig, ((ax1, ax2), (ax3, ax4)) = plt.subplots(nrows=2, ncols=2, figsize=(16, 8))\n",
    "\n",
    "ax1.plot(baguette_plot_df[\"ds\"], baguette_plot_df[\"y\"])\n",
    "ax1.set_xlabel(\"Date\")\n",
    "ax1.set_ylabel(\"Baguette Sales Volume\")\n",
    "\n",
    "ax2.plot(baguette_plot_df[\"ds\"], baguette_plot_df[\"unit_price\"])\n",
    "ax2.set_xlabel(\"Date\")\n",
    "ax2.set_ylabel(\"Unit Price of Baguette\")\n",
    "\n",
    "ax3.plot(croissant_plot_df[\"ds\"], croissant_plot_df[\"y\"])\n",
    "ax3.set_xlabel(\"Date\")\n",
    "ax3.set_ylabel(\"Croissant Sales Volume\")\n",
    "\n",
    "ax4.plot(croissant_plot_df[\"ds\"], croissant_plot_df[\"unit_price\"])\n",
    "ax4.set_xlabel(\"Date\")\n",
    "ax4.set_ylabel(\"Unit Price of Croissant\")\n",
    "\n",
    "fig.autofmt_xdate()\n",
    "plt.tight_layout()"
   ]
  },
  {
   "cell_type": "code",
   "execution_count": null,
   "id": "b3081ce0",
   "metadata": {},
   "outputs": [],
   "source": [
    "test = df.groupby(\"unique_id\").tail(7)\n",
    "train = df.drop(test.index).reset_index(drop=True)"
   ]
  },
  {
   "cell_type": "code",
   "execution_count": null,
   "id": "e483e584",
   "metadata": {},
   "outputs": [],
   "source": [
    "futr_exog_df = test.drop([\"y\"], axis=1)\n",
    "futr_exog_df.head()"
   ]
  },
  {
   "cell_type": "code",
   "execution_count": null,
   "id": "9e6e8e6e",
   "metadata": {},
   "outputs": [],
   "source": [
    "models = [\n",
    "    AutoARIMA(season_length=7, alias=\"SARIMA_price_exog\")\n",
    "]\n",
    "\n",
    "sf = StatsForecast(models=models, freq=\"D\")\n",
    "sf.fit(df=train)\n",
    "arima_exog_preds = sf.predict(h=horizon, X_df=futr_exog_df)\n",
    "\n",
    "models = [\n",
    "    AutoARIMA(season_length=7, alias=\"SARIMA\")\n",
    "]\n",
    "\n",
    "sf = StatsForecast(models=models, freq=\"D\")\n",
    "sf.fit(df=train.drop([\"unit_price\"], axis=1))\n",
    "arima_preds = sf.predict(h=horizon)"
   ]
  },
  {
   "cell_type": "code",
   "execution_count": null,
   "id": "d5e89643",
   "metadata": {},
   "outputs": [],
   "source": [
    "test_df = test.merge(arima_exog_preds, on=[\"unique_id\", \"ds\"], how=\"inner\").merge(arima_preds, on=[\"unique_id\", \"ds\"], how=\"inner\")\n",
    "test_df.head()"
   ]
  },
  {
   "cell_type": "code",
   "execution_count": null,
   "id": "8ace3f56",
   "metadata": {},
   "outputs": [],
   "source": [
    "arima_exog_eval = evaluate(test_df.drop([\"unit_price\"], axis=1), metrics=[mae])\n",
    "arima_exog_eval.head()"
   ]
  },
  {
   "cell_type": "code",
   "execution_count": null,
   "id": "7fe90345",
   "metadata": {},
   "outputs": [],
   "source": [
    "arima_exog_eval = arima_exog_eval.drop([\"unique_id\"], axis=1).groupby(\"metric\").mean().reset_index()\n",
    "arima_exog_eval.head()"
   ]
  },
  {
   "cell_type": "code",
   "execution_count": null,
   "id": "c1fc536c",
   "metadata": {},
   "outputs": [],
   "source": [
    "plot_series(df=train, forecasts_df=test_df, ids=[\"BAGUETTE\", \"CROISSANT\"], max_insample_length=28, models=[\"SARIMA_price_exog\", \"SARIMA\"], palette=\"viridis\")"
   ]
  },
  {
   "cell_type": "code",
   "execution_count": null,
   "id": "ac726197",
   "metadata": {},
   "outputs": [],
   "source": [
    "methods = arima_exog_eval.columns[1:].tolist()\n",
    "values = arima_exog_eval.iloc[0, 1:].tolist()\n",
    "\n",
    "plt.figure(figsize=(10, 6))\n",
    "bars = plt.bar(methods, values)\n",
    "\n",
    "for bar, value in zip(bars, values):\n",
    "    plt.text(bar.get_x() + bar.get_width() / 2, bar.get_height() + 0.05, f\"{value:.3f}\", ha=\"center\", va=\"bottom\", fontweight=\"bold\")\n",
    "\n",
    "plt.xlabel(\"Methods\")\n",
    "plt.ylabel(\"Mean Absolute Error (MAE)\")\n",
    "plt.tight_layout()\n",
    "\n",
    "plt.show()"
   ]
  },
  {
   "cell_type": "code",
   "execution_count": null,
   "id": "3a181366",
   "metadata": {},
   "outputs": [],
   "source": [
    "models = [\n",
    "    AutoARIMA(season_length=7, alias=\"SARIMA_price_exog\"),\n",
    "]\n",
    "\n",
    "sf = StatsForecast(models=models, freq=\"D\")\n",
    "\n",
    "cv_exog_df = sf.cross_validation(h=horizon, df=df, n_windows=7, step_size=horizon, refit=True)\n",
    "cv_exog_df.head()"
   ]
  },
  {
   "cell_type": "code",
   "execution_count": null,
   "id": "8b0b0b0e",
   "metadata": {},
   "outputs": [],
   "source": [
    "cv_exog_df = cv_exog_df.merge(cv_df.drop([\"cutoff\", \"y\"], axis=1), on=[\"unique_id\", \"ds\"], how=\"inner\")\n",
    "cv_exog_df.head()"
   ]
  },
  {
   "cell_type": "code",
   "execution_count": null,
   "id": "b4a78585",
   "metadata": {},
   "outputs": [],
   "source": [
    "cv_exog_eval = evaluate(cv_exog_df.drop([\"cutoff\"], axis=1), metrics=[mae])\n",
    "cv_exog_eval.head()"
   ]
  },
  {
   "cell_type": "code",
   "execution_count": null,
   "id": "83c2641d",
   "metadata": {},
   "outputs": [],
   "source": [
    "cv_exog_eval = cv_exog_eval.drop([\"unique_id\"], axis=1).groupby(\"metric\").mean().reset_index()\n",
    "cv_exog_eval.head()"
   ]
  },
  {
   "cell_type": "code",
   "execution_count": null,
   "id": "81e31964",
   "metadata": {},
   "outputs": [],
   "source": [
    "plot_series(df=df, forecasts_df=cv_exog_df.drop([\"cutoff\", \"y\"], axis=1), ids=[\"BAGUETTE\", \"CROISSANT\"], max_insample_length=140, palette=\"viridis\")"
   ]
  },
  {
   "cell_type": "code",
   "execution_count": null,
   "id": "cdb4f220",
   "metadata": {},
   "outputs": [],
   "source": [
    "methods = cv_exog_eval.columns[1:].tolist()\n",
    "values = cv_exog_eval.iloc[0, 1:].tolist()\n",
    "\n",
    "plt.figure(figsize=(10, 6))\n",
    "bars = plt.bar(methods, values)\n",
    "\n",
    "for bar, value in zip(bars, values):\n",
    "    plt.text(bar.get_x() + bar.get_width() / 2, bar.get_height() + 0.05, f\"{value:.3f}\", ha=\"center\", va=\"bottom\", fontweight=\"bold\")\n",
    "\n",
    "plt.xlabel(\"Methods\")\n",
    "plt.ylabel(\"Mean Absolute Error (MAE)\")\n",
    "plt.tight_layout()\n",
    "\n",
    "plt.show()"
   ]
  },
  {
   "cell_type": "code",
   "execution_count": null,
   "id": "321694c4",
   "metadata": {},
   "outputs": [],
   "source": [
    "from functools import partial\n",
    "from utilsforecast.feature_engineering import fourier, time_features, pipeline"
   ]
  },
  {
   "cell_type": "code",
   "execution_count": null,
   "id": "dfdeeeaf",
   "metadata": {},
   "outputs": [],
   "source": [
    "features = [\n",
    "    partial(fourier, season_length=7, k=2),\n",
    "    partial(time_features, features=[\"day\", \"week\", \"month\"])\n",
    "]\n",
    "\n",
    "exog_df, futr_exog_df = pipeline(df=df, features=features, freq=\"D\", h=horizon)"
   ]
  },
  {
   "cell_type": "code",
   "execution_count": null,
   "id": "5be1ac7b",
   "metadata": {},
   "outputs": [],
   "source": [
    "exog_df.head()"
   ]
  },
  {
   "cell_type": "code",
   "execution_count": null,
   "id": "2c1caf2b",
   "metadata": {},
   "outputs": [],
   "source": [
    "futr_exog_df.head()"
   ]
  },
  {
   "cell_type": "code",
   "execution_count": null,
   "id": "94358db2",
   "metadata": {},
   "outputs": [],
   "source": [
    "models = [\n",
    "    AutoARIMA(season_length=7, alias=\"SARIMA_time_exog\")\n",
    "]\n",
    "\n",
    "sf = StatsForecast(models=models, freq=\"D\")\n",
    "cv_time_exog_df = sf.cross_validation(h=horizon, df=exog_df, n_windows=7, step_size=horizon, refit=True)\n",
    "cv_time_exog_df.head()"
   ]
  },
  {
   "cell_type": "code",
   "execution_count": null,
   "id": "0668728b",
   "metadata": {},
   "outputs": [],
   "source": [
    "cv_time_exog_df = cv_time_exog_df.merge(cv_exog_df.drop([\"cutoff\", \"y\"], axis=1), on=[\"unique_id\", \"ds\"], how=\"inner\")\n",
    "cv_time_exog_df.head()"
   ]
  },
  {
   "cell_type": "code",
   "execution_count": null,
   "id": "2546f9d2",
   "metadata": {},
   "outputs": [],
   "source": [
    "cv_time_exog_eval = evaluate(cv_time_exog_df.drop([\"cutoff\"], axis=1), metrics=[mae])\n",
    "cv_time_exog_eval.head()"
   ]
  },
  {
   "cell_type": "code",
   "execution_count": null,
   "id": "7e994a14",
   "metadata": {},
   "outputs": [],
   "source": [
    "cv_time_exog_eval = cv_time_exog_eval.drop([\"unique_id\"], axis=1).groupby(\"metric\").mean().reset_index()\n",
    "cv_time_exog_eval.head()"
   ]
  },
  {
   "cell_type": "code",
   "execution_count": null,
   "id": "c08d6fad",
   "metadata": {},
   "outputs": [],
   "source": [
    "plot_series(df=df, forecasts_df=cv_time_exog_df.drop([\"cutoff\", \"y\"], axis=1), ids=[\"BAGUETTE\", \"CROISSANT\"], max_insample_length=140, palette=\"viridis\")"
   ]
  },
  {
   "cell_type": "code",
   "execution_count": null,
   "id": "45a32f18",
   "metadata": {},
   "outputs": [],
   "source": [
    "methods = cv_time_exog_eval.columns[1:].tolist()\n",
    "values = cv_time_exog_eval.iloc[0, 1:].tolist()\n",
    "\n",
    "plt.figure(figsize=(10, 6))\n",
    "bars = plt.bar(methods, values)\n",
    "\n",
    "for bar, value in zip(bars, values):\n",
    "    plt.text(bar.get_x() + bar.get_width() / 2, bar.get_height() + 0.05, f\"{value:.3f}\", ha=\"center\", va=\"bottom\", fontweight=\"bold\")\n",
    "\n",
    "plt.xlabel(\"Methods\")\n",
    "plt.ylabel(\"Mean Absolute Error (MAE)\")\n",
    "plt.tight_layout()\n",
    "\n",
    "plt.show()"
   ]
  },
  {
   "cell_type": "markdown",
   "id": "ddfb031b",
   "metadata": {},
   "source": [
    "## Prediction Intervals"
   ]
  },
  {
   "cell_type": "code",
   "execution_count": null,
   "id": "f5691379",
   "metadata": {},
   "outputs": [],
   "source": [
    "df = pd.read_csv(\"data/daily_sales_french_bakery.csv\", parse_dates=[\"ds\"])\n",
    "df = df.groupby(\"unique_id\").filter(lambda x: len(x) >= 28)\n",
    "df = df.drop([\"unit_price\"], axis=1)\n",
    "df.head()"
   ]
  },
  {
   "cell_type": "code",
   "execution_count": null,
   "id": "2cfdbe4e",
   "metadata": {},
   "outputs": [],
   "source": [
    "test = df.groupby(\"unique_id\").tail(7)\n",
    "train = df.drop(test.index).reset_index(drop=True)"
   ]
  },
  {
   "cell_type": "code",
   "execution_count": null,
   "id": "241d539f",
   "metadata": {},
   "outputs": [],
   "source": [
    "models = [\n",
    "    AutoARIMA(season_length=7)\n",
    "]\n",
    "\n",
    "sf = StatsForecast(models=models, freq=\"D\")\n",
    "sf.fit(df=train)\n",
    "prob_preds = sf.predict(h=horizon, level=[80])\n",
    "prob_preds.head()"
   ]
  },
  {
   "cell_type": "code",
   "execution_count": null,
   "id": "f11b6ff7",
   "metadata": {},
   "outputs": [],
   "source": [
    "test_df = test.merge(prob_preds, on=[\"unique_id\", \"ds\"], how=\"inner\")\n",
    "test_df.head()"
   ]
  },
  {
   "cell_type": "code",
   "execution_count": null,
   "id": "54bf1ca6",
   "metadata": {},
   "outputs": [],
   "source": [
    "plot_series(df=train, forecasts_df=test_df, ids=[\"BAGUETTE\", \"CROISSANT\"], max_insample_length=28, models=[\"AutoARIMA\"], level=[80], palette=\"viridis\")"
   ]
  },
  {
   "cell_type": "code",
   "execution_count": null,
   "id": "9dc36ce5",
   "metadata": {},
   "outputs": [],
   "source": [
    "models = [\n",
    "    AutoARIMA(season_length=7)\n",
    "]\n",
    "\n",
    "sf = StatsForecast(models=models, freq=\"D\")\n",
    "\n",
    "cv_prob_df = sf.cross_validation(h=horizon, df=df, n_windows=7, step_size=horizon, refit=True, level=[80])\n",
    "cv_prob_df.head()"
   ]
  },
  {
   "cell_type": "code",
   "execution_count": null,
   "id": "96671b16",
   "metadata": {},
   "outputs": [],
   "source": [
    "plot_series(df=train, forecasts_df=cv_prob_df.drop([\"y\", \"cutoff\"], axis=1), ids=[\"BAGUETTE\", \"CROISSANT\"], max_insample_length=140, models=[\"AutoARIMA\"], level=[80], palette=\"viridis\")"
   ]
  },
  {
   "cell_type": "markdown",
   "id": "a4d337af",
   "metadata": {},
   "source": [
    "## Evaluation Metrics"
   ]
  },
  {
   "cell_type": "code",
   "execution_count": null,
   "id": "cc532f31",
   "metadata": {},
   "outputs": [],
   "source": [
    "df = pd.read_csv(\"data/daily_sales_french_bakery.csv\", parse_dates=[\"ds\"])\n",
    "df = df.groupby(\"unique_id\").filter(lambda x: len(x) >= 28)\n",
    "df = df.drop([\"unit_price\"], axis=1)\n",
    "df.head()"
   ]
  },
  {
   "cell_type": "code",
   "execution_count": null,
   "id": "41b95837",
   "metadata": {},
   "outputs": [],
   "source": [
    "models = [\n",
    "    AutoARIMA(season_length=7, alias=\"SARIMA\"),\n",
    "    SeasonalNaive(season_length=7)\n",
    "]\n",
    "\n",
    "sf = StatsForecast(models=models, freq=\"D\")\n",
    "final_cv_df = sf.cross_validation(h=horizon, df=df, n_windows=7, step_size=horizon, refit=True, level=[80])\n",
    "final_cv_df.head()"
   ]
  },
  {
   "cell_type": "code",
   "execution_count": null,
   "id": "49940daf",
   "metadata": {},
   "outputs": [],
   "source": [
    "temp_test = df.groupby(\"unique_id\").tail(7 * 7)\n",
    "temp_train = df.drop(temp_test.index).reset_index(drop=True)"
   ]
  },
  {
   "cell_type": "code",
   "execution_count": null,
   "id": "5408e33d",
   "metadata": {},
   "outputs": [],
   "source": [
    "models = [\"SARIMA\", \"SeasonalNaive\"]\n",
    "metrics = [\n",
    "    mae,\n",
    "    mse,\n",
    "    rmse,\n",
    "    mape,\n",
    "    smape,\n",
    "    partial(mase, seasonality=7),\n",
    "    scaled_crps\n",
    "]\n",
    "\n",
    "final_eval = evaluate(final_cv_df.drop([\"ds\", \"cutoff\"], axis=1), metrics=metrics, models=models, train_df=temp_train, level=[80])\n",
    "final_eval.head()"
   ]
  },
  {
   "cell_type": "code",
   "execution_count": null,
   "id": "e43ed6cd",
   "metadata": {},
   "outputs": [],
   "source": [
    "final_eval = final_eval.drop([\"unique_id\"], axis=1).groupby([\"metric\"]).mean().reset_index()\n",
    "final_eval.head()"
   ]
  },
  {
   "cell_type": "code",
   "execution_count": null,
   "id": "2b5a576d",
   "metadata": {},
   "outputs": [],
   "source": [
    "fig, axes = plt.subplots(3, 3, figsize=(18, 12))\n",
    "axes_flat = axes.flatten()\n",
    "\n",
    "x_pos = [0, 1]\n",
    "colors = [\"blue\", \"red\"]\n",
    "models = [\"SARIMA\", \"SeasonalNaive\"]\n",
    "\n",
    "for i, row in final_eval.iterrows():\n",
    "    ax = axes_flat[i]\n",
    "    model_values = [row[\"SARIMA\"], row[\"SeasonalNaive\"]]\n",
    "    bars = ax.bar(x_pos, model_values, color=colors, alpha=0.8, edgecolor=\"black\", linewidth=1)\n",
    "    for j, (bar, value) in enumerate(zip(bars, model_values)):\n",
    "        ax.text(bar.get_x() + bar.get_width() / 2, bar.get_height() + bar.get_height() * 0.01, f\"{value:.3f}\", ha=\"center\", va=\"bottom\", fontweight=\"bold\", fontsize=10)\n",
    "    \n",
    "    ax.set_title(row[\"metric\"].upper(), fontweight=\"bold\", fontsize=12)\n",
    "    ax.set_xticks(x_pos)\n",
    "    ax.set_xticklabels(models, ha=\"center\")\n",
    "    ax.set_ylabel(\"Value\")\n",
    "    max_value = max(model_values)\n",
    "    ax.set_ylim(0, max_value * 1.1)\n",
    "\n",
    "fig.delaxes(axes_flat[7])\n",
    "axes_flat[8].set_visible(False)\n",
    "\n",
    "plt.tight_layout()\n",
    "plt.show()\n"
   ]
  }
 ],
 "metadata": {
  "kernelspec": {
   "display_name": "venv",
   "language": "python",
   "name": "python3"
  },
  "language_info": {
   "codemirror_mode": {
    "name": "ipython",
    "version": 3
   },
   "file_extension": ".py",
   "mimetype": "text/x-python",
   "name": "python",
   "nbconvert_exporter": "python",
   "pygments_lexer": "ipython3",
   "version": "3.13.3"
  }
 },
 "nbformat": 4,
 "nbformat_minor": 5
}
